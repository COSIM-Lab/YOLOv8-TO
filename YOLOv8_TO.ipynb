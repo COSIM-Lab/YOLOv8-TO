{
 "cells": [
  {
   "cell_type": "code",
   "execution_count": null,
   "metadata": {},
   "outputs": [],
   "source": [
    "from ultralytics import YOLO\n",
    "\n",
    "#To initialize a model from scratch:\n",
    "#model = YOLO('yolov8n-segreg.yaml')\n",
    "\n",
    "# To load a pretrained model:  (Available pretrained are nano, medium and xlarge)\n",
    "model = YOLO('./trained_models/nano.pt')"
   ]
  },
  {
   "cell_type": "code",
   "execution_count": null,
   "metadata": {
    "scrolled": true,
    "tags": []
   },
   "outputs": [],
   "source": [
    "# To train the model on a dataset: (GPU recommended)\n",
    "\n",
    "model.train(data = '/Users/thomasrochefort/Documents/GitHub/test/YOLOv8-TO/datasets/dataset_random_mmc/data.yaml', \n",
    "            mosaic = 1.0,\n",
    "            hsv_h= 0.5,  # (float) image HSV-Hue augmentation (fraction)\n",
    "            hsv_s= 0.5,  # (float) image HSV-Saturation augmentation (fraction)\n",
    "            hsv_v= 0.5,  # (float) image HSV-Value augmentation (fraction)\n",
    "            degrees= 25.0,  # (float) image rotation (+/- deg)\n",
    "            translate= 0.2,  # (float) image translation (+/- fraction)\n",
    "            scale= 0.75,  # (float) image scale (+/- gain)\n",
    "            shear= 10.0,  # (float) image shear (+/- deg)\n",
    "            perspective= 0.001,  # (float) image perspective (+/- fraction), range 0-0.001\n",
    "            flipud= 0.5,  # (float) image flip up-down (probability)\n",
    "            fliplr= 0.5,\n",
    "            epochs=1, \n",
    "            batch=6,\n",
    "            reg_gain = 1.0,  # Weight to deactivate the design variable regression loss in the total loss function.\n",
    "            amp = True,\n",
    "            warmup_epochs=0,\n",
    "            imgsz=int(640),\n",
    "            workers=12,\n",
    "            lr0=3e-4,\n",
    "            cache = \"ram\",\n",
    "            cos_lr = True,\n",
    "            single_cls=True,\n",
    "            rect=False,\n",
    "            overlap_mask=False,\n",
    "            mask_ratio=1,\n",
    "            optimizer = \"AdamW\",\n",
    "            pretrained=False,\n",
    "            patience=100,\n",
    "            weight_decay=1e-2, \n",
    "            val=True,\n",
    "            resume=False,\n",
    "            plots=True\n",
    "            )"
   ]
  },
  {
   "cell_type": "code",
   "execution_count": null,
   "metadata": {},
   "outputs": [],
   "source": [
    "import sys\n",
    "sys.path.append('./utils')\n",
    "\n",
    "from yolo_utils import preprocess_image, run_model, process_results, plot_results\n",
    "\n",
    "# Load and preprocess the image\n",
    "image_path = './test.png'\n",
    "image = preprocess_image(image_path, threshold_value=0.9, upscale=False)\n",
    "# Run the model\n",
    "results = run_model(model, image, conf=0.1, iou=0.3, imgsz=640)\n",
    "# Process the results\n",
    "\n",
    "input_image_array_tensor, seg_result, pred_Phi, sum_pred_H, final_H, dice_loss, tversky_loss = process_results(results, image)\n",
    "# Plot the results\n",
    "plot_results(input_image_array_tensor, seg_result, pred_Phi, sum_pred_H, final_H, dice_loss, tversky_loss, filename='output_plot.png')"
   ]
  },
  {
   "cell_type": "code",
   "execution_count": null,
   "metadata": {},
   "outputs": [],
   "source": []
  }
 ],
 "metadata": {
  "kernelspec": {
   "display_name": "customyolo",
   "language": "python",
   "name": "python3"
  },
  "language_info": {
   "codemirror_mode": {
    "name": "ipython",
    "version": 3
   },
   "file_extension": ".py",
   "mimetype": "text/x-python",
   "name": "python",
   "nbconvert_exporter": "python",
   "pygments_lexer": "ipython3",
   "version": "3.12.4"
  }
 },
 "nbformat": 4,
 "nbformat_minor": 4
}
